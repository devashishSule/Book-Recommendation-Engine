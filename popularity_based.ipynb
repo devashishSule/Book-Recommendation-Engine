{
 "cells": [
  {
   "cell_type": "code",
   "execution_count": 33,
   "metadata": {},
   "outputs": [],
   "source": [
    "import pandas as pd\n",
    "import numpy as np"
   ]
  },
  {
   "cell_type": "code",
   "execution_count": 34,
   "metadata": {},
   "outputs": [],
   "source": [
    "books = pd.read_csv('py_book_list.csv')\n",
    "ratings = pd.read_csv('Ratings_py.csv')\n",
    "users = pd.read_csv('users.csv')"
   ]
  },
  {
   "cell_type": "code",
   "execution_count": 35,
   "metadata": {},
   "outputs": [
    {
     "name": "stdout",
     "output_type": "stream",
     "text": [
      "(20, 4)\n",
      "(51, 3)\n",
      "(50, 2)\n"
     ]
    }
   ],
   "source": [
    "print(books.shape)\n",
    "print(ratings.shape)\n",
    "print(users.shape)"
   ]
  },
  {
   "cell_type": "code",
   "execution_count": 36,
   "metadata": {},
   "outputs": [
    {
     "data": {
      "text/plain": [
       "b_id             1\n",
       "Name of books    1\n",
       "Author           1\n",
       "Image-URL        3\n",
       "dtype: int64"
      ]
     },
     "execution_count": 36,
     "metadata": {},
     "output_type": "execute_result"
    }
   ],
   "source": [
    "# to identify missing values\n",
    "books.isnull().sum()"
   ]
  },
  {
   "cell_type": "code",
   "execution_count": 37,
   "metadata": {},
   "outputs": [
    {
     "data": {
      "text/plain": [
       "User-ID    1\n",
       "b_id       1\n",
       "Ratings    1\n",
       "dtype: int64"
      ]
     },
     "execution_count": 37,
     "metadata": {},
     "output_type": "execute_result"
    }
   ],
   "source": [
    "ratings.isnull().sum()"
   ]
  },
  {
   "cell_type": "code",
   "execution_count": 38,
   "metadata": {},
   "outputs": [
    {
     "data": {
      "text/plain": [
       "User_ID    0\n",
       "Age        0\n",
       "dtype: int64"
      ]
     },
     "execution_count": 38,
     "metadata": {},
     "output_type": "execute_result"
    }
   ],
   "source": [
    "users.isnull().sum()"
   ]
  },
  {
   "cell_type": "code",
   "execution_count": 39,
   "metadata": {},
   "outputs": [
    {
     "data": {
      "text/plain": [
       "0"
      ]
     },
     "execution_count": 39,
     "metadata": {},
     "output_type": "execute_result"
    }
   ],
   "source": [
    "books.duplicated().sum()"
   ]
  },
  {
   "cell_type": "code",
   "execution_count": 40,
   "metadata": {},
   "outputs": [
    {
     "data": {
      "text/plain": [
       "0"
      ]
     },
     "execution_count": 40,
     "metadata": {},
     "output_type": "execute_result"
    }
   ],
   "source": [
    "ratings.duplicated().sum()\n"
   ]
  },
  {
   "cell_type": "code",
   "execution_count": 41,
   "metadata": {},
   "outputs": [
    {
     "data": {
      "text/plain": [
       "0"
      ]
     },
     "execution_count": 41,
     "metadata": {},
     "output_type": "execute_result"
    }
   ],
   "source": [
    "users.duplicated().sum()"
   ]
  },
  {
   "attachments": {},
   "cell_type": "markdown",
   "metadata": {},
   "source": [
    "## Popularity Based Recommendation System \n",
    "The model will derive the mean of ratings on books and accordingly will recommend top rated books to the user "
   ]
  },
  {
   "cell_type": "code",
   "execution_count": 42,
   "metadata": {},
   "outputs": [
    {
     "data": {
      "text/html": [
       "<div>\n",
       "<style scoped>\n",
       "    .dataframe tbody tr th:only-of-type {\n",
       "        vertical-align: middle;\n",
       "    }\n",
       "\n",
       "    .dataframe tbody tr th {\n",
       "        vertical-align: top;\n",
       "    }\n",
       "\n",
       "    .dataframe thead th {\n",
       "        text-align: right;\n",
       "    }\n",
       "</style>\n",
       "<table border=\"1\" class=\"dataframe\">\n",
       "  <thead>\n",
       "    <tr style=\"text-align: right;\">\n",
       "      <th></th>\n",
       "      <th>User-ID</th>\n",
       "      <th>b_id</th>\n",
       "      <th>Ratings</th>\n",
       "      <th>Name of books</th>\n",
       "      <th>Author</th>\n",
       "      <th>Image-URL</th>\n",
       "    </tr>\n",
       "  </thead>\n",
       "  <tbody>\n",
       "    <tr>\n",
       "      <th>0</th>\n",
       "      <td>NaN</td>\n",
       "      <td>NaN</td>\n",
       "      <td>NaN</td>\n",
       "      <td>NaN</td>\n",
       "      <td>NaN</td>\n",
       "      <td>NaN</td>\n",
       "    </tr>\n",
       "    <tr>\n",
       "      <th>1</th>\n",
       "      <td>user1</td>\n",
       "      <td>b_11</td>\n",
       "      <td>10.0</td>\n",
       "      <td>Python Cookbook: Recipes for Mastering Python 3</td>\n",
       "      <td>David Beazley, Brian K. Jones</td>\n",
       "      <td>https://m.media-amazon.com/images/I/71L-WzJlrb...</td>\n",
       "    </tr>\n",
       "    <tr>\n",
       "      <th>2</th>\n",
       "      <td>user11</td>\n",
       "      <td>b_11</td>\n",
       "      <td>5.0</td>\n",
       "      <td>Python Cookbook: Recipes for Mastering Python 3</td>\n",
       "      <td>David Beazley, Brian K. Jones</td>\n",
       "      <td>https://m.media-amazon.com/images/I/71L-WzJlrb...</td>\n",
       "    </tr>\n",
       "    <tr>\n",
       "      <th>3</th>\n",
       "      <td>user26</td>\n",
       "      <td>b_11</td>\n",
       "      <td>4.0</td>\n",
       "      <td>Python Cookbook: Recipes for Mastering Python 3</td>\n",
       "      <td>David Beazley, Brian K. Jones</td>\n",
       "      <td>https://m.media-amazon.com/images/I/71L-WzJlrb...</td>\n",
       "    </tr>\n",
       "    <tr>\n",
       "      <th>4</th>\n",
       "      <td>user41</td>\n",
       "      <td>b_11</td>\n",
       "      <td>1.0</td>\n",
       "      <td>Python Cookbook: Recipes for Mastering Python 3</td>\n",
       "      <td>David Beazley, Brian K. Jones</td>\n",
       "      <td>https://m.media-amazon.com/images/I/71L-WzJlrb...</td>\n",
       "    </tr>\n",
       "  </tbody>\n",
       "</table>\n",
       "</div>"
      ],
      "text/plain": [
       "  User-ID  b_id  Ratings                                    Name of books  \\\n",
       "0     NaN   NaN      NaN                                              NaN   \n",
       "1   user1  b_11     10.0  Python Cookbook: Recipes for Mastering Python 3   \n",
       "2  user11  b_11      5.0  Python Cookbook: Recipes for Mastering Python 3   \n",
       "3  user26  b_11      4.0  Python Cookbook: Recipes for Mastering Python 3   \n",
       "4  user41  b_11      1.0  Python Cookbook: Recipes for Mastering Python 3   \n",
       "\n",
       "                          Author  \\\n",
       "0                            NaN   \n",
       "1  David Beazley, Brian K. Jones   \n",
       "2  David Beazley, Brian K. Jones   \n",
       "3  David Beazley, Brian K. Jones   \n",
       "4  David Beazley, Brian K. Jones   \n",
       "\n",
       "                                           Image-URL  \n",
       "0                                                NaN  \n",
       "1  https://m.media-amazon.com/images/I/71L-WzJlrb...  \n",
       "2  https://m.media-amazon.com/images/I/71L-WzJlrb...  \n",
       "3  https://m.media-amazon.com/images/I/71L-WzJlrb...  \n",
       "4  https://m.media-amazon.com/images/I/71L-WzJlrb...  "
      ]
     },
     "execution_count": 42,
     "metadata": {},
     "output_type": "execute_result"
    }
   ],
   "source": [
    "# merge 2 datasets on basis of b_id\n",
    "ratings_with_books = ratings.merge(books,on='b_id')\n",
    "ratings_with_books.head()"
   ]
  },
  {
   "cell_type": "code",
   "execution_count": 43,
   "metadata": {},
   "outputs": [
    {
     "data": {
      "text/html": [
       "<div>\n",
       "<style scoped>\n",
       "    .dataframe tbody tr th:only-of-type {\n",
       "        vertical-align: middle;\n",
       "    }\n",
       "\n",
       "    .dataframe tbody tr th {\n",
       "        vertical-align: top;\n",
       "    }\n",
       "\n",
       "    .dataframe thead th {\n",
       "        text-align: right;\n",
       "    }\n",
       "</style>\n",
       "<table border=\"1\" class=\"dataframe\">\n",
       "  <thead>\n",
       "    <tr style=\"text-align: right;\">\n",
       "      <th></th>\n",
       "      <th>Name of books</th>\n",
       "      <th>Number of ratings</th>\n",
       "    </tr>\n",
       "  </thead>\n",
       "  <tbody>\n",
       "    <tr>\n",
       "      <th>0</th>\n",
       "      <td>Automate the Boring Stuff with Python, 2nd Edi...</td>\n",
       "      <td>2</td>\n",
       "    </tr>\n",
       "    <tr>\n",
       "      <th>1</th>\n",
       "      <td>Best Advanced Python Book: Fluent Python: Clea...</td>\n",
       "      <td>2</td>\n",
       "    </tr>\n",
       "    <tr>\n",
       "      <th>2</th>\n",
       "      <td>Best Book for Practical Learning: Learn Python...</td>\n",
       "      <td>4</td>\n",
       "    </tr>\n",
       "    <tr>\n",
       "      <th>3</th>\n",
       "      <td>Best Free Python Book: A Byte of Python</td>\n",
       "      <td>2</td>\n",
       "    </tr>\n",
       "    <tr>\n",
       "      <th>4</th>\n",
       "      <td>Best Python Book for Children: Python for Kids</td>\n",
       "      <td>3</td>\n",
       "    </tr>\n",
       "  </tbody>\n",
       "</table>\n",
       "</div>"
      ],
      "text/plain": [
       "                                       Name of books  Number of ratings\n",
       "0  Automate the Boring Stuff with Python, 2nd Edi...                  2\n",
       "1  Best Advanced Python Book: Fluent Python: Clea...                  2\n",
       "2  Best Book for Practical Learning: Learn Python...                  4\n",
       "3            Best Free Python Book: A Byte of Python                  2\n",
       "4     Best Python Book for Children: Python for Kids                  3"
      ]
     },
     "execution_count": 43,
     "metadata": {},
     "output_type": "execute_result"
    }
   ],
   "source": [
    "# Identify number of ratings on each book \n",
    "num_rating_df = ratings_with_books.groupby('Name of books').count()['Ratings'].reset_index()\n",
    "num_rating_df.rename(columns={'Ratings':'Number of ratings'},inplace=True)\n",
    "num_rating_df.head()"
   ]
  },
  {
   "cell_type": "code",
   "execution_count": 44,
   "metadata": {},
   "outputs": [
    {
     "data": {
      "text/html": [
       "<div>\n",
       "<style scoped>\n",
       "    .dataframe tbody tr th:only-of-type {\n",
       "        vertical-align: middle;\n",
       "    }\n",
       "\n",
       "    .dataframe tbody tr th {\n",
       "        vertical-align: top;\n",
       "    }\n",
       "\n",
       "    .dataframe thead th {\n",
       "        text-align: right;\n",
       "    }\n",
       "</style>\n",
       "<table border=\"1\" class=\"dataframe\">\n",
       "  <thead>\n",
       "    <tr style=\"text-align: right;\">\n",
       "      <th></th>\n",
       "      <th>Name of books</th>\n",
       "      <th>Average ratings</th>\n",
       "    </tr>\n",
       "  </thead>\n",
       "  <tbody>\n",
       "    <tr>\n",
       "      <th>0</th>\n",
       "      <td>Automate the Boring Stuff with Python, 2nd Edi...</td>\n",
       "      <td>5.000000</td>\n",
       "    </tr>\n",
       "    <tr>\n",
       "      <th>1</th>\n",
       "      <td>Best Advanced Python Book: Fluent Python: Clea...</td>\n",
       "      <td>0.500000</td>\n",
       "    </tr>\n",
       "    <tr>\n",
       "      <th>2</th>\n",
       "      <td>Best Book for Practical Learning: Learn Python...</td>\n",
       "      <td>3.750000</td>\n",
       "    </tr>\n",
       "    <tr>\n",
       "      <th>3</th>\n",
       "      <td>Best Free Python Book: A Byte of Python</td>\n",
       "      <td>6.000000</td>\n",
       "    </tr>\n",
       "    <tr>\n",
       "      <th>4</th>\n",
       "      <td>Best Python Book for Children: Python for Kids</td>\n",
       "      <td>8.333333</td>\n",
       "    </tr>\n",
       "  </tbody>\n",
       "</table>\n",
       "</div>"
      ],
      "text/plain": [
       "                                       Name of books  Average ratings\n",
       "0  Automate the Boring Stuff with Python, 2nd Edi...         5.000000\n",
       "1  Best Advanced Python Book: Fluent Python: Clea...         0.500000\n",
       "2  Best Book for Practical Learning: Learn Python...         3.750000\n",
       "3            Best Free Python Book: A Byte of Python         6.000000\n",
       "4     Best Python Book for Children: Python for Kids         8.333333"
      ]
     },
     "execution_count": 44,
     "metadata": {},
     "output_type": "execute_result"
    }
   ],
   "source": [
    "# Average rating of each book \n",
    "avg_rating_df = ratings_with_books.groupby('Name of books').mean()['Ratings'].reset_index()\n",
    "avg_rating_df.rename(columns={'Ratings':'Average ratings'},inplace=True)\n",
    "avg_rating_df.head()"
   ]
  },
  {
   "cell_type": "code",
   "execution_count": 45,
   "metadata": {},
   "outputs": [
    {
     "data": {
      "text/html": [
       "<div>\n",
       "<style scoped>\n",
       "    .dataframe tbody tr th:only-of-type {\n",
       "        vertical-align: middle;\n",
       "    }\n",
       "\n",
       "    .dataframe tbody tr th {\n",
       "        vertical-align: top;\n",
       "    }\n",
       "\n",
       "    .dataframe thead th {\n",
       "        text-align: right;\n",
       "    }\n",
       "</style>\n",
       "<table border=\"1\" class=\"dataframe\">\n",
       "  <thead>\n",
       "    <tr style=\"text-align: right;\">\n",
       "      <th></th>\n",
       "      <th>Name of books</th>\n",
       "      <th>Number of ratings</th>\n",
       "      <th>Average ratings</th>\n",
       "    </tr>\n",
       "  </thead>\n",
       "  <tbody>\n",
       "    <tr>\n",
       "      <th>0</th>\n",
       "      <td>Automate the Boring Stuff with Python, 2nd Edi...</td>\n",
       "      <td>2</td>\n",
       "      <td>5.000000</td>\n",
       "    </tr>\n",
       "    <tr>\n",
       "      <th>1</th>\n",
       "      <td>Best Advanced Python Book: Fluent Python: Clea...</td>\n",
       "      <td>2</td>\n",
       "      <td>0.500000</td>\n",
       "    </tr>\n",
       "    <tr>\n",
       "      <th>2</th>\n",
       "      <td>Best Book for Practical Learning: Learn Python...</td>\n",
       "      <td>4</td>\n",
       "      <td>3.750000</td>\n",
       "    </tr>\n",
       "    <tr>\n",
       "      <th>3</th>\n",
       "      <td>Best Free Python Book: A Byte of Python</td>\n",
       "      <td>2</td>\n",
       "      <td>6.000000</td>\n",
       "    </tr>\n",
       "    <tr>\n",
       "      <th>4</th>\n",
       "      <td>Best Python Book for Children: Python for Kids</td>\n",
       "      <td>3</td>\n",
       "      <td>8.333333</td>\n",
       "    </tr>\n",
       "  </tbody>\n",
       "</table>\n",
       "</div>"
      ],
      "text/plain": [
       "                                       Name of books  Number of ratings  \\\n",
       "0  Automate the Boring Stuff with Python, 2nd Edi...                  2   \n",
       "1  Best Advanced Python Book: Fluent Python: Clea...                  2   \n",
       "2  Best Book for Practical Learning: Learn Python...                  4   \n",
       "3            Best Free Python Book: A Byte of Python                  2   \n",
       "4     Best Python Book for Children: Python for Kids                  3   \n",
       "\n",
       "   Average ratings  \n",
       "0         5.000000  \n",
       "1         0.500000  \n",
       "2         3.750000  \n",
       "3         6.000000  \n",
       "4         8.333333  "
      ]
     },
     "execution_count": 45,
     "metadata": {},
     "output_type": "execute_result"
    }
   ],
   "source": [
    "# merge num_ratings_df with avg_ratings_df on basis of 'Name of books'\n",
    "popular_df = num_rating_df.merge(avg_rating_df,on='Name of books')\n",
    "popular_df.head()"
   ]
  },
  {
   "cell_type": "code",
   "execution_count": 46,
   "metadata": {},
   "outputs": [],
   "source": [
    "# Sort the values of Average Ratings in descending order to  get top 5 high rated books\n",
    "popular_df = popular_df.sort_values('Average ratings', ascending=False).head(5)"
   ]
  },
  {
   "cell_type": "code",
   "execution_count": 47,
   "metadata": {},
   "outputs": [
    {
     "data": {
      "text/html": [
       "<div>\n",
       "<style scoped>\n",
       "    .dataframe tbody tr th:only-of-type {\n",
       "        vertical-align: middle;\n",
       "    }\n",
       "\n",
       "    .dataframe tbody tr th {\n",
       "        vertical-align: top;\n",
       "    }\n",
       "\n",
       "    .dataframe thead th {\n",
       "        text-align: right;\n",
       "    }\n",
       "</style>\n",
       "<table border=\"1\" class=\"dataframe\">\n",
       "  <thead>\n",
       "    <tr style=\"text-align: right;\">\n",
       "      <th></th>\n",
       "      <th>Name of books</th>\n",
       "      <th>Author</th>\n",
       "      <th>Image-URL</th>\n",
       "      <th>Number of ratings</th>\n",
       "      <th>Average ratings</th>\n",
       "    </tr>\n",
       "  </thead>\n",
       "  <tbody>\n",
       "    <tr>\n",
       "      <th>0</th>\n",
       "      <td>Best Python Book for Children: Python for Kids</td>\n",
       "      <td>Jason R. Briggs</td>\n",
       "      <td>https://m.media-amazon.com/images/I/61nKA224Mg...</td>\n",
       "      <td>3</td>\n",
       "      <td>8.333333</td>\n",
       "    </tr>\n",
       "    <tr>\n",
       "      <th>1</th>\n",
       "      <td>Python Crash Course</td>\n",
       "      <td>Eric Matthews</td>\n",
       "      <td>https://m.media-amazon.com/images/I/514cSQ0O9O...</td>\n",
       "      <td>2</td>\n",
       "      <td>8.000000</td>\n",
       "    </tr>\n",
       "    <tr>\n",
       "      <th>2</th>\n",
       "      <td>Best Python Programming Books for Advanced Pro...</td>\n",
       "      <td>Tony Stark</td>\n",
       "      <td>https://m.media-amazon.com/images/I/41JeFdBQlD...</td>\n",
       "      <td>2</td>\n",
       "      <td>7.000000</td>\n",
       "    </tr>\n",
       "    <tr>\n",
       "      <th>3</th>\n",
       "      <td>Creative Coding in Python: 30+ Programming Pro...</td>\n",
       "      <td>Sheena Vaidyanathan</td>\n",
       "      <td>https://m.media-amazon.com/images/I/51EJ5ZEbYW...</td>\n",
       "      <td>2</td>\n",
       "      <td>6.000000</td>\n",
       "    </tr>\n",
       "    <tr>\n",
       "      <th>4</th>\n",
       "      <td>Best Free Python Book: A Byte of Python</td>\n",
       "      <td>C.H. Swaroop</td>\n",
       "      <td>https://m.media-amazon.com/images/I/41JeFdBQlD...</td>\n",
       "      <td>2</td>\n",
       "      <td>6.000000</td>\n",
       "    </tr>\n",
       "  </tbody>\n",
       "</table>\n",
       "</div>"
      ],
      "text/plain": [
       "                                       Name of books               Author  \\\n",
       "0     Best Python Book for Children: Python for Kids      Jason R. Briggs   \n",
       "1                                Python Crash Course        Eric Matthews   \n",
       "2  Best Python Programming Books for Advanced Pro...           Tony Stark   \n",
       "3  Creative Coding in Python: 30+ Programming Pro...  Sheena Vaidyanathan   \n",
       "4            Best Free Python Book: A Byte of Python         C.H. Swaroop   \n",
       "\n",
       "                                           Image-URL  Number of ratings  \\\n",
       "0  https://m.media-amazon.com/images/I/61nKA224Mg...                  3   \n",
       "1  https://m.media-amazon.com/images/I/514cSQ0O9O...                  2   \n",
       "2  https://m.media-amazon.com/images/I/41JeFdBQlD...                  2   \n",
       "3  https://m.media-amazon.com/images/I/51EJ5ZEbYW...                  2   \n",
       "4  https://m.media-amazon.com/images/I/41JeFdBQlD...                  2   \n",
       "\n",
       "   Average ratings  \n",
       "0         8.333333  \n",
       "1         8.000000  \n",
       "2         7.000000  \n",
       "3         6.000000  \n",
       "4         6.000000  "
      ]
     },
     "execution_count": 47,
     "metadata": {},
     "output_type": "execute_result"
    }
   ],
   "source": [
    "# merge popular_df with books dataset and filter required columns\n",
    "popular_df = popular_df.merge(books,on='Name of books')\n",
    "popular_df[['Name of books','Author','Image-URL','Number of ratings','Average ratings']]"
   ]
  },
  {
   "cell_type": "code",
   "execution_count": 48,
   "metadata": {},
   "outputs": [],
   "source": [
    "import pickle\n",
    "pickle.dump(popular_df,open('popular.pkl','wb'))"
   ]
  }
 ],
 "metadata": {
  "kernelspec": {
   "display_name": "Python 3",
   "language": "python",
   "name": "python3"
  },
  "language_info": {
   "codemirror_mode": {
    "name": "ipython",
    "version": 3
   },
   "file_extension": ".py",
   "mimetype": "text/x-python",
   "name": "python",
   "nbconvert_exporter": "python",
   "pygments_lexer": "ipython3",
   "version": "3.9.7"
  },
  "orig_nbformat": 4,
  "vscode": {
   "interpreter": {
    "hash": "25034407fed5d681614dac11a1c0537e8cb49e3a8883c071303eea01322943d9"
   }
  }
 },
 "nbformat": 4,
 "nbformat_minor": 2
}
