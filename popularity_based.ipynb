{
 "cells": [
  {
   "cell_type": "code",
   "execution_count": 3,
   "metadata": {},
   "outputs": [],
   "source": [
    "import pandas as pd\n",
    "import numpy as np"
   ]
  },
  {
   "cell_type": "code",
   "execution_count": 4,
   "metadata": {},
   "outputs": [],
   "source": [
    "books = pd.read_csv('py_book_list.csv')\n",
    "ratings = pd.read_csv('Ratings_py.csv')\n",
    "users = pd.read_csv('users.csv')"
   ]
  },
  {
   "cell_type": "code",
   "execution_count": 5,
   "metadata": {},
   "outputs": [
    {
     "name": "stdout",
     "output_type": "stream",
     "text": [
      "(20, 3)\n",
      "(51, 3)\n",
      "(50, 2)\n"
     ]
    }
   ],
   "source": [
    "print(books.shape)\n",
    "print(ratings.shape)\n",
    "print(users.shape)"
   ]
  },
  {
   "cell_type": "code",
   "execution_count": 6,
   "metadata": {},
   "outputs": [
    {
     "data": {
      "text/plain": [
       "b_id             0\n",
       "Name of books    0\n",
       "Author           0\n",
       "dtype: int64"
      ]
     },
     "execution_count": 6,
     "metadata": {},
     "output_type": "execute_result"
    }
   ],
   "source": [
    "# to identify missing values\n",
    "books.isnull().sum()"
   ]
  },
  {
   "cell_type": "code",
   "execution_count": 7,
   "metadata": {},
   "outputs": [
    {
     "data": {
      "text/plain": [
       "User-ID    1\n",
       "b_id       1\n",
       "Ratings    1\n",
       "dtype: int64"
      ]
     },
     "execution_count": 7,
     "metadata": {},
     "output_type": "execute_result"
    }
   ],
   "source": [
    "ratings.isnull().sum()"
   ]
  },
  {
   "cell_type": "code",
   "execution_count": 8,
   "metadata": {},
   "outputs": [
    {
     "data": {
      "text/plain": [
       "User_ID    0\n",
       "Age        0\n",
       "dtype: int64"
      ]
     },
     "execution_count": 8,
     "metadata": {},
     "output_type": "execute_result"
    }
   ],
   "source": [
    "users.isnull().sum()"
   ]
  },
  {
   "cell_type": "code",
   "execution_count": 9,
   "metadata": {},
   "outputs": [
    {
     "data": {
      "text/plain": [
       "0"
      ]
     },
     "execution_count": 9,
     "metadata": {},
     "output_type": "execute_result"
    }
   ],
   "source": [
    "books.duplicated().sum()"
   ]
  },
  {
   "cell_type": "code",
   "execution_count": 10,
   "metadata": {},
   "outputs": [
    {
     "data": {
      "text/plain": [
       "0"
      ]
     },
     "execution_count": 10,
     "metadata": {},
     "output_type": "execute_result"
    }
   ],
   "source": [
    "ratings.duplicated().sum()\n"
   ]
  },
  {
   "cell_type": "code",
   "execution_count": 11,
   "metadata": {},
   "outputs": [
    {
     "data": {
      "text/plain": [
       "0"
      ]
     },
     "execution_count": 11,
     "metadata": {},
     "output_type": "execute_result"
    }
   ],
   "source": [
    "users.duplicated().sum()"
   ]
  },
  {
   "attachments": {},
   "cell_type": "markdown",
   "metadata": {},
   "source": [
    "## Popularity Based Recommendation System \n",
    "The system will display top 5 average highest rated Books from the dataset. "
   ]
  },
  {
   "cell_type": "code",
   "execution_count": 12,
   "metadata": {},
   "outputs": [
    {
     "data": {
      "text/html": [
       "<div>\n",
       "<style scoped>\n",
       "    .dataframe tbody tr th:only-of-type {\n",
       "        vertical-align: middle;\n",
       "    }\n",
       "\n",
       "    .dataframe tbody tr th {\n",
       "        vertical-align: top;\n",
       "    }\n",
       "\n",
       "    .dataframe thead th {\n",
       "        text-align: right;\n",
       "    }\n",
       "</style>\n",
       "<table border=\"1\" class=\"dataframe\">\n",
       "  <thead>\n",
       "    <tr style=\"text-align: right;\">\n",
       "      <th></th>\n",
       "      <th>User-ID</th>\n",
       "      <th>b_id</th>\n",
       "      <th>Ratings</th>\n",
       "      <th>Name of books</th>\n",
       "      <th>Author</th>\n",
       "    </tr>\n",
       "  </thead>\n",
       "  <tbody>\n",
       "    <tr>\n",
       "      <th>0</th>\n",
       "      <td>user1</td>\n",
       "      <td>b_11</td>\n",
       "      <td>10.0</td>\n",
       "      <td>Best Advanced Python Book: Fluent Python: Clea...</td>\n",
       "      <td>Luciano Ramalho</td>\n",
       "    </tr>\n",
       "    <tr>\n",
       "      <th>1</th>\n",
       "      <td>user11</td>\n",
       "      <td>b_11</td>\n",
       "      <td>5.0</td>\n",
       "      <td>Best Advanced Python Book: Fluent Python: Clea...</td>\n",
       "      <td>Luciano Ramalho</td>\n",
       "    </tr>\n",
       "    <tr>\n",
       "      <th>2</th>\n",
       "      <td>user26</td>\n",
       "      <td>b_11</td>\n",
       "      <td>4.0</td>\n",
       "      <td>Best Advanced Python Book: Fluent Python: Clea...</td>\n",
       "      <td>Luciano Ramalho</td>\n",
       "    </tr>\n",
       "    <tr>\n",
       "      <th>3</th>\n",
       "      <td>user41</td>\n",
       "      <td>b_11</td>\n",
       "      <td>1.0</td>\n",
       "      <td>Best Advanced Python Book: Fluent Python: Clea...</td>\n",
       "      <td>Luciano Ramalho</td>\n",
       "    </tr>\n",
       "    <tr>\n",
       "      <th>4</th>\n",
       "      <td>user2</td>\n",
       "      <td>b_12</td>\n",
       "      <td>0.0</td>\n",
       "      <td>Python Cookbook: Recipes for Mastering Python 3</td>\n",
       "      <td>David Beazley, Brian K. Jones</td>\n",
       "    </tr>\n",
       "  </tbody>\n",
       "</table>\n",
       "</div>"
      ],
      "text/plain": [
       "  User-ID  b_id  Ratings                                      Name of books  \\\n",
       "0   user1  b_11     10.0  Best Advanced Python Book: Fluent Python: Clea...   \n",
       "1  user11  b_11      5.0  Best Advanced Python Book: Fluent Python: Clea...   \n",
       "2  user26  b_11      4.0  Best Advanced Python Book: Fluent Python: Clea...   \n",
       "3  user41  b_11      1.0  Best Advanced Python Book: Fluent Python: Clea...   \n",
       "4   user2  b_12      0.0    Python Cookbook: Recipes for Mastering Python 3   \n",
       "\n",
       "                          Author  \n",
       "0                Luciano Ramalho  \n",
       "1                Luciano Ramalho  \n",
       "2                Luciano Ramalho  \n",
       "3                Luciano Ramalho  \n",
       "4  David Beazley, Brian K. Jones  "
      ]
     },
     "execution_count": 12,
     "metadata": {},
     "output_type": "execute_result"
    }
   ],
   "source": [
    "# merge 2 datasets on basis of b_id\n",
    "ratings_with_books = ratings.merge(books,on='b_id')\n",
    "ratings_with_books.head()"
   ]
  },
  {
   "cell_type": "code",
   "execution_count": 13,
   "metadata": {},
   "outputs": [
    {
     "data": {
      "text/html": [
       "<div>\n",
       "<style scoped>\n",
       "    .dataframe tbody tr th:only-of-type {\n",
       "        vertical-align: middle;\n",
       "    }\n",
       "\n",
       "    .dataframe tbody tr th {\n",
       "        vertical-align: top;\n",
       "    }\n",
       "\n",
       "    .dataframe thead th {\n",
       "        text-align: right;\n",
       "    }\n",
       "</style>\n",
       "<table border=\"1\" class=\"dataframe\">\n",
       "  <thead>\n",
       "    <tr style=\"text-align: right;\">\n",
       "      <th></th>\n",
       "      <th>Name of books</th>\n",
       "      <th>Number of ratings</th>\n",
       "    </tr>\n",
       "  </thead>\n",
       "  <tbody>\n",
       "    <tr>\n",
       "      <th>0</th>\n",
       "      <td>Automate the Boring Stuff with Python, 2nd Edi...</td>\n",
       "      <td>2</td>\n",
       "    </tr>\n",
       "    <tr>\n",
       "      <th>1</th>\n",
       "      <td>Best Advanced Python Book: Fluent Python: Clea...</td>\n",
       "      <td>4</td>\n",
       "    </tr>\n",
       "    <tr>\n",
       "      <th>2</th>\n",
       "      <td>Best Book for Job Interview Prep: Elements of ...</td>\n",
       "      <td>2</td>\n",
       "    </tr>\n",
       "    <tr>\n",
       "      <th>3</th>\n",
       "      <td>Best Book for Practical Learning: Learn Python...</td>\n",
       "      <td>4</td>\n",
       "    </tr>\n",
       "    <tr>\n",
       "      <th>4</th>\n",
       "      <td>Best Free Python Book: A Byte of Python</td>\n",
       "      <td>2</td>\n",
       "    </tr>\n",
       "  </tbody>\n",
       "</table>\n",
       "</div>"
      ],
      "text/plain": [
       "                                       Name of books  Number of ratings\n",
       "0  Automate the Boring Stuff with Python, 2nd Edi...                  2\n",
       "1  Best Advanced Python Book: Fluent Python: Clea...                  4\n",
       "2  Best Book for Job Interview Prep: Elements of ...                  2\n",
       "3  Best Book for Practical Learning: Learn Python...                  4\n",
       "4            Best Free Python Book: A Byte of Python                  2"
      ]
     },
     "execution_count": 13,
     "metadata": {},
     "output_type": "execute_result"
    }
   ],
   "source": [
    "# Identify number of ratings on each book \n",
    "num_rating_df = ratings_with_books.groupby('Name of books').count()['Ratings'].reset_index()\n",
    "num_rating_df.rename(columns={'Ratings':'Number of ratings'},inplace=True)\n",
    "num_rating_df.head()"
   ]
  },
  {
   "cell_type": "code",
   "execution_count": 14,
   "metadata": {},
   "outputs": [
    {
     "data": {
      "text/html": [
       "<div>\n",
       "<style scoped>\n",
       "    .dataframe tbody tr th:only-of-type {\n",
       "        vertical-align: middle;\n",
       "    }\n",
       "\n",
       "    .dataframe tbody tr th {\n",
       "        vertical-align: top;\n",
       "    }\n",
       "\n",
       "    .dataframe thead th {\n",
       "        text-align: right;\n",
       "    }\n",
       "</style>\n",
       "<table border=\"1\" class=\"dataframe\">\n",
       "  <thead>\n",
       "    <tr style=\"text-align: right;\">\n",
       "      <th></th>\n",
       "      <th>Name of books</th>\n",
       "      <th>Average ratings</th>\n",
       "    </tr>\n",
       "  </thead>\n",
       "  <tbody>\n",
       "    <tr>\n",
       "      <th>0</th>\n",
       "      <td>Automate the Boring Stuff with Python, 2nd Edi...</td>\n",
       "      <td>3.00</td>\n",
       "    </tr>\n",
       "    <tr>\n",
       "      <th>1</th>\n",
       "      <td>Best Advanced Python Book: Fluent Python: Clea...</td>\n",
       "      <td>5.00</td>\n",
       "    </tr>\n",
       "    <tr>\n",
       "      <th>2</th>\n",
       "      <td>Best Book for Job Interview Prep: Elements of ...</td>\n",
       "      <td>5.00</td>\n",
       "    </tr>\n",
       "    <tr>\n",
       "      <th>3</th>\n",
       "      <td>Best Book for Practical Learning: Learn Python...</td>\n",
       "      <td>3.75</td>\n",
       "    </tr>\n",
       "    <tr>\n",
       "      <th>4</th>\n",
       "      <td>Best Free Python Book: A Byte of Python</td>\n",
       "      <td>7.00</td>\n",
       "    </tr>\n",
       "  </tbody>\n",
       "</table>\n",
       "</div>"
      ],
      "text/plain": [
       "                                       Name of books  Average ratings\n",
       "0  Automate the Boring Stuff with Python, 2nd Edi...             3.00\n",
       "1  Best Advanced Python Book: Fluent Python: Clea...             5.00\n",
       "2  Best Book for Job Interview Prep: Elements of ...             5.00\n",
       "3  Best Book for Practical Learning: Learn Python...             3.75\n",
       "4            Best Free Python Book: A Byte of Python             7.00"
      ]
     },
     "execution_count": 14,
     "metadata": {},
     "output_type": "execute_result"
    }
   ],
   "source": [
    "# Average rating of each book \n",
    "avg_rating_df = ratings_with_books.groupby('Name of books').mean()['Ratings'].reset_index()\n",
    "avg_rating_df.rename(columns={'Ratings':'Average ratings'},inplace=True)\n",
    "avg_rating_df.head()"
   ]
  },
  {
   "cell_type": "code",
   "execution_count": 15,
   "metadata": {},
   "outputs": [
    {
     "data": {
      "text/html": [
       "<div>\n",
       "<style scoped>\n",
       "    .dataframe tbody tr th:only-of-type {\n",
       "        vertical-align: middle;\n",
       "    }\n",
       "\n",
       "    .dataframe tbody tr th {\n",
       "        vertical-align: top;\n",
       "    }\n",
       "\n",
       "    .dataframe thead th {\n",
       "        text-align: right;\n",
       "    }\n",
       "</style>\n",
       "<table border=\"1\" class=\"dataframe\">\n",
       "  <thead>\n",
       "    <tr style=\"text-align: right;\">\n",
       "      <th></th>\n",
       "      <th>Name of books</th>\n",
       "      <th>Number of ratings</th>\n",
       "      <th>Average ratings</th>\n",
       "    </tr>\n",
       "  </thead>\n",
       "  <tbody>\n",
       "    <tr>\n",
       "      <th>0</th>\n",
       "      <td>Automate the Boring Stuff with Python, 2nd Edi...</td>\n",
       "      <td>2</td>\n",
       "      <td>3.00</td>\n",
       "    </tr>\n",
       "    <tr>\n",
       "      <th>1</th>\n",
       "      <td>Best Advanced Python Book: Fluent Python: Clea...</td>\n",
       "      <td>4</td>\n",
       "      <td>5.00</td>\n",
       "    </tr>\n",
       "    <tr>\n",
       "      <th>2</th>\n",
       "      <td>Best Book for Job Interview Prep: Elements of ...</td>\n",
       "      <td>2</td>\n",
       "      <td>5.00</td>\n",
       "    </tr>\n",
       "    <tr>\n",
       "      <th>3</th>\n",
       "      <td>Best Book for Practical Learning: Learn Python...</td>\n",
       "      <td>4</td>\n",
       "      <td>3.75</td>\n",
       "    </tr>\n",
       "    <tr>\n",
       "      <th>4</th>\n",
       "      <td>Best Free Python Book: A Byte of Python</td>\n",
       "      <td>2</td>\n",
       "      <td>7.00</td>\n",
       "    </tr>\n",
       "  </tbody>\n",
       "</table>\n",
       "</div>"
      ],
      "text/plain": [
       "                                       Name of books  Number of ratings  \\\n",
       "0  Automate the Boring Stuff with Python, 2nd Edi...                  2   \n",
       "1  Best Advanced Python Book: Fluent Python: Clea...                  4   \n",
       "2  Best Book for Job Interview Prep: Elements of ...                  2   \n",
       "3  Best Book for Practical Learning: Learn Python...                  4   \n",
       "4            Best Free Python Book: A Byte of Python                  2   \n",
       "\n",
       "   Average ratings  \n",
       "0             3.00  \n",
       "1             5.00  \n",
       "2             5.00  \n",
       "3             3.75  \n",
       "4             7.00  "
      ]
     },
     "execution_count": 15,
     "metadata": {},
     "output_type": "execute_result"
    }
   ],
   "source": [
    "# merge num_ratings_df with avg_ratings_df on basis of 'Name of books'\n",
    "popular_df = num_rating_df.merge(avg_rating_df,on='Name of books')\n",
    "popular_df.head()"
   ]
  },
  {
   "cell_type": "code",
   "execution_count": 16,
   "metadata": {},
   "outputs": [],
   "source": [
    "# Sort the values of Average Ratings in descending order to  get top 5 high rated books\n",
    "popular_df = popular_df.sort_values('Average ratings', ascending=False).head(5)"
   ]
  },
  {
   "cell_type": "code",
   "execution_count": 17,
   "metadata": {},
   "outputs": [
    {
     "data": {
      "text/html": [
       "<div>\n",
       "<style scoped>\n",
       "    .dataframe tbody tr th:only-of-type {\n",
       "        vertical-align: middle;\n",
       "    }\n",
       "\n",
       "    .dataframe tbody tr th {\n",
       "        vertical-align: top;\n",
       "    }\n",
       "\n",
       "    .dataframe thead th {\n",
       "        text-align: right;\n",
       "    }\n",
       "</style>\n",
       "<table border=\"1\" class=\"dataframe\">\n",
       "  <thead>\n",
       "    <tr style=\"text-align: right;\">\n",
       "      <th></th>\n",
       "      <th>Name of books</th>\n",
       "      <th>Author</th>\n",
       "      <th>Number of ratings</th>\n",
       "      <th>Average ratings</th>\n",
       "    </tr>\n",
       "  </thead>\n",
       "  <tbody>\n",
       "    <tr>\n",
       "      <th>0</th>\n",
       "      <td>Best Python Books for Kids</td>\n",
       "      <td>Mark Ruffalo</td>\n",
       "      <td>3</td>\n",
       "      <td>8.333333</td>\n",
       "    </tr>\n",
       "    <tr>\n",
       "      <th>1</th>\n",
       "      <td>Best Python Books for Beginners</td>\n",
       "      <td>Dwayne Johnson</td>\n",
       "      <td>2</td>\n",
       "      <td>8.000000</td>\n",
       "    </tr>\n",
       "    <tr>\n",
       "      <th>2</th>\n",
       "      <td>Best Free Python Book: A Byte of Python</td>\n",
       "      <td>C.H. Swaroop</td>\n",
       "      <td>2</td>\n",
       "      <td>7.000000</td>\n",
       "    </tr>\n",
       "    <tr>\n",
       "      <th>3</th>\n",
       "      <td>Creative Coding in Python: 30+ Programming Pro...</td>\n",
       "      <td>Sheena Vaidyanathan</td>\n",
       "      <td>2</td>\n",
       "      <td>6.500000</td>\n",
       "    </tr>\n",
       "    <tr>\n",
       "      <th>4</th>\n",
       "      <td>Coding For Kids: Python: Learn to Code with 50...</td>\n",
       "      <td>Adrienne Tacke</td>\n",
       "      <td>2</td>\n",
       "      <td>6.000000</td>\n",
       "    </tr>\n",
       "  </tbody>\n",
       "</table>\n",
       "</div>"
      ],
      "text/plain": [
       "                                       Name of books               Author  \\\n",
       "0                         Best Python Books for Kids         Mark Ruffalo   \n",
       "1                    Best Python Books for Beginners       Dwayne Johnson   \n",
       "2            Best Free Python Book: A Byte of Python         C.H. Swaroop   \n",
       "3  Creative Coding in Python: 30+ Programming Pro...  Sheena Vaidyanathan   \n",
       "4  Coding For Kids: Python: Learn to Code with 50...       Adrienne Tacke   \n",
       "\n",
       "   Number of ratings  Average ratings  \n",
       "0                  3         8.333333  \n",
       "1                  2         8.000000  \n",
       "2                  2         7.000000  \n",
       "3                  2         6.500000  \n",
       "4                  2         6.000000  "
      ]
     },
     "execution_count": 17,
     "metadata": {},
     "output_type": "execute_result"
    }
   ],
   "source": [
    "# merge popular_df with books dataset and filter required columns\n",
    "popular_df = popular_df.merge(books,on='Name of books')\n",
    "popular_df[['Name of books','Author','Number of ratings','Average ratings']]"
   ]
  }
 ],
 "metadata": {
  "kernelspec": {
   "display_name": "Python 3",
   "language": "python",
   "name": "python3"
  },
  "language_info": {
   "codemirror_mode": {
    "name": "ipython",
    "version": 3
   },
   "file_extension": ".py",
   "mimetype": "text/x-python",
   "name": "python",
   "nbconvert_exporter": "python",
   "pygments_lexer": "ipython3",
   "version": "3.9.7"
  },
  "orig_nbformat": 4,
  "vscode": {
   "interpreter": {
    "hash": "25034407fed5d681614dac11a1c0537e8cb49e3a8883c071303eea01322943d9"
   }
  }
 },
 "nbformat": 4,
 "nbformat_minor": 2
}
